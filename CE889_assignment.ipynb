{
  "cells": [
    {
      "cell_type": "markdown",
      "metadata": {
        "id": "view-in-github",
        "colab_type": "text"
      },
      "source": [
        "<a href=\"https://colab.research.google.com/github/NkBachor/EEG-dataset/blob/main/CE889_assignment.ipynb\" target=\"_parent\"><img src=\"https://colab.research.google.com/assets/colab-badge.svg\" alt=\"Open In Colab\"/></a>"
      ]
    },
    {
      "cell_type": "code",
      "execution_count": null,
      "id": "753e173c",
      "metadata": {
        "id": "753e173c"
      },
      "outputs": [],
      "source": [
        "#Import modules to us\n",
        "import numpy as np\n",
        "import scipy.io as io\n",
        "import sklearn as skl\n",
        "import pandas as pd\n",
        "import math\n",
        "import matplotlib.pyplot as plt\n",
        "from scipy.fft import fft, ifft\n",
        "from sklearn import preprocessing\n",
        "from sklearn.model_selection import train_test_split"
      ]
    },
    {
      "cell_type": "code",
      "execution_count": null,
      "id": "83d486de",
      "metadata": {
        "id": "83d486de"
      },
      "outputs": [],
      "source": [
        "data = io.loadmat('WLDataCW.mat')"
      ]
    },
    {
      "cell_type": "code",
      "execution_count": null,
      "id": "db2496b0",
      "metadata": {
        "colab": {
          "base_uri": "https://localhost:8080/"
        },
        "id": "db2496b0",
        "outputId": "5b4044a4-ab29-4dff-927e-8e4becf3454c"
      },
      "outputs": [
        {
          "output_type": "stream",
          "name": "stdout",
          "text": [
            "dict_keys(['__header__', '__version__', '__globals__', 'data', 'label'])\n",
            "[]\n",
            "(62, 512, 360)\n",
            "(1, 360)\n"
          ]
        }
      ],
      "source": [
        "print(data.keys())\n",
        "print(data['__globals__'])\n",
        "data_only = data[\"data\"]\n",
        "label = data[\"label\"]\n",
        "print(data_only.shape)\n",
        "print(label.shape)"
      ]
    },
    {
      "cell_type": "code",
      "execution_count": null,
      "id": "1d1db62b",
      "metadata": {
        "colab": {
          "base_uri": "https://localhost:8080/"
        },
        "id": "1d1db62b",
        "outputId": "6165c5aa-1e30-4935-a6d7-35fc3f56ae48"
      },
      "outputs": [
        {
          "output_type": "execute_result",
          "data": {
            "text/plain": [
              "(62, 512, 360)"
            ]
          },
          "metadata": {},
          "execution_count": 99
        }
      ],
      "source": [
        "data_only = data[\"data\"] #assiging the data to a  variable\n",
        "data_only.shape #Checking the dimension of the data"
      ]
    },
    {
      "cell_type": "code",
      "execution_count": null,
      "id": "abe1b089",
      "metadata": {
        "id": "abe1b089"
      },
      "outputs": [],
      "source": [
        "#Flattening the data\n",
        "data_t = data_only.T #Transpose the data \n",
        "r1, c1, d1 = data_t.shape\n",
        "flat_data_t = np.zeros([r1, c1*d1]) # Creating the array that stores the flattened data\n",
        "for i in range(r1):\n",
        "    flat_data_t[i] = data_t[i].flatten()   #Flatten the 512 X 62 section of data   \n",
        "flat_data_only = flat_data_t.T #Transpose again to return to the original shape of data howbeit flattened\n",
        "num_epochs = 40"
      ]
    },
    {
      "cell_type": "code",
      "execution_count": null,
      "id": "26e6e44d",
      "metadata": {
        "id": "26e6e44d"
      },
      "outputs": [],
      "source": [
        "#Fourier transform for extraction\n",
        "x_ft = []\n",
        "for i in range(data_only.shape[2]):\n",
        "    x_s = []\n",
        "    for j in range(data_only.shape[0]):\n",
        "        x_s.append(np.abs(fft(data_only[j, :, i])[:100]))\n",
        "    x_ft.append(x_s)\n",
        "x_ft = np.array(x_ft)\n",
        "flat_data_only = x_ft.reshape(x_ft.shape[0], x_ft.shape[1] * x_ft.shape[2])\n",
        "num_epochs = 185\n",
        "flat_data_only = flat_data_only.T"
      ]
    },
    {
      "cell_type": "code",
      "execution_count": null,
      "id": "b22d46e0",
      "metadata": {
        "colab": {
          "base_uri": "https://localhost:8080/"
        },
        "id": "b22d46e0",
        "outputId": "2fb61a15-e9ac-4e2a-ae6d-2071269f840d"
      },
      "outputs": [
        {
          "output_type": "execute_result",
          "data": {
            "text/plain": [
              "(6200, 360)"
            ]
          },
          "metadata": {},
          "execution_count": 101
        }
      ],
      "source": [
        "r2, c2 = flat_data_only.shape\n",
        "flat_data_only.shape"
      ]
    },
    {
      "cell_type": "code",
      "execution_count": null,
      "id": "27429007",
      "metadata": {
        "id": "27429007"
      },
      "outputs": [],
      "source": [
        "df_fdo = pd.DataFrame(flat_data_only) \n",
        "df_fdo.isna().any()"
      ]
    },
    {
      "cell_type": "code",
      "execution_count": null,
      "id": "b9f42494",
      "metadata": {
        "id": "b9f42494"
      },
      "outputs": [],
      "source": [
        "df_label = pd.DataFrame(label)\n",
        "df_label.isna().any()"
      ]
    },
    {
      "cell_type": "code",
      "execution_count": null,
      "id": "c275d0e5",
      "metadata": {
        "id": "c275d0e5"
      },
      "outputs": [],
      "source": [
        "min_max_Scalar = preprocessing.MinMaxScaler(feature_range=(-1, 1)) \n",
        "df_fdo = min_max_Scalar.fit_transform(df_fdo)"
      ]
    },
    {
      "cell_type": "code",
      "execution_count": null,
      "id": "6d2df657",
      "metadata": {
        "id": "6d2df657"
      },
      "outputs": [],
      "source": [
        "df_fdo # Print out the normalised data"
      ]
    },
    {
      "cell_type": "code",
      "execution_count": null,
      "id": "0f914985",
      "metadata": {
        "id": "0f914985"
      },
      "outputs": [],
      "source": [
        "flat_data_only = df_fdo.T # Transpose the data to get it ready for slicing into training and testing"
      ]
    },
    {
      "cell_type": "code",
      "execution_count": null,
      "id": "99887637",
      "metadata": {
        "id": "99887637"
      },
      "outputs": [],
      "source": [
        "label  = df_label.T   # Transpose the label to get it ready for slicing into training and testing"
      ]
    },
    {
      "cell_type": "code",
      "execution_count": null,
      "id": "16ecfeb2",
      "metadata": {
        "colab": {
          "base_uri": "https://localhost:8080/"
        },
        "id": "16ecfeb2",
        "outputId": "87d62115-2bbd-4628-96ca-023e0251785c"
      },
      "outputs": [
        {
          "output_type": "stream",
          "name": "stdout",
          "text": [
            "(360, 6200)\n",
            "(360, 1)\n"
          ]
        }
      ],
      "source": [
        "print(flat_data_only.shape)\n",
        "print(label.shape) "
      ]
    },
    {
      "cell_type": "code",
      "execution_count": null,
      "id": "d73be736",
      "metadata": {
        "id": "d73be736"
      },
      "outputs": [],
      "source": [
        "def DL_DW(k, x, y_hat, y):    \n",
        "    dW = y_hat - y    \n",
        "    dL_dW = (1/k) * np.dot(x, dW.T)\n",
        "    return  dL_dW"
      ]
    },
    {
      "cell_type": "code",
      "execution_count": null,
      "id": "f7417b30",
      "metadata": {
        "id": "f7417b30"
      },
      "outputs": [],
      "source": [
        "def DL_Db(k, y_hat, y):      \n",
        "    db = y_hat - y   \n",
        "    dL_db = (1/k) * np.sum(db, axis=1, keepdims=True)\n",
        "    return  dL_db"
      ]
    },
    {
      "cell_type": "code",
      "execution_count": null,
      "id": "f345d7a7",
      "metadata": {
        "id": "f345d7a7"
      },
      "outputs": [],
      "source": [
        "def loss(k, y_hat, y):    \n",
        "    loss_sum = - (np.sum(y*np.log(y_hat) + (1 - y)*np.log(1 - y_hat)))\n",
        "    L = loss_sum/k \n",
        "    \n",
        "    return L"
      ]
    },
    {
      "cell_type": "code",
      "execution_count": null,
      "id": "2e75901f",
      "metadata": {
        "id": "2e75901f"
      },
      "outputs": [],
      "source": [
        "def sigm(z):\n",
        "    y_hat = 1 / (1 + np.exp(-z))\n",
        "    return y_hat"
      ]
    },
    {
      "cell_type": "code",
      "execution_count": null,
      "id": "dde32d1d",
      "metadata": {
        "colab": {
          "base_uri": "https://localhost:8080/"
        },
        "id": "dde32d1d",
        "outputId": "da985299-207c-476f-e2ad-2e0f0afe4c67"
      },
      "outputs": [
        {
          "output_type": "stream",
          "name": "stdout",
          "text": [
            "(288, 1) (72, 1) (288, 6200) (72, 6200)\n"
          ]
        }
      ],
      "source": [
        "X_train, X_test, y_train, y_test = skl.model_selection.train_test_split(flat_data_only, label, train_size=0.8, random_state=42)\n",
        "print(y_train.shape,y_test.shape,X_train.shape,X_test.shape)"
      ]
    },
    {
      "cell_type": "code",
      "execution_count": null,
      "id": "8256f471",
      "metadata": {
        "id": "8256f471"
      },
      "outputs": [],
      "source": [
        "loss_list = [] \n",
        "learning_rate = 0.01\n",
        "k = X_train.shape[0]\n",
        "iterations = []\n",
        "accuracy_list = []\n",
        "k_fold = 6\n",
        "n = len(X_train) // k_fold\n",
        "b = np.empty([1,1])\n",
        "b = np.array([0.0])\n",
        "W = np.empty([r2,1])\n",
        "W.fill(0.0)"
      ]
    },
    {
      "cell_type": "code",
      "execution_count": null,
      "id": "d1259c86",
      "metadata": {
        "id": "d1259c86"
      },
      "outputs": [],
      "source": [
        "for epoch in range(num_epochs):\n",
        "    print('processing epoch #%d' % epoch)\n",
        "    for i in range(k_fold):        \n",
        "       \n",
        "        val_X_train = X_train[i * n: (i + 1) * n]\n",
        "        val_y_train = y_train[i * n: (i + 1) * n]\n",
        "       \n",
        "        batch_X_train = np.concatenate([X_train[:i * n], X_train[(i + 1) * n:]], axis=0)\n",
        "        batch_y_train = np.concatenate([y_train[:i * n], y_train[(i + 1) * n:]], axis=0)    \n",
        "       \n",
        "       \n",
        "        y = np.array(batch_y_train.T)\n",
        "        x = np.array(batch_X_train.T)          \n",
        "        k = batch_X_train.shape[0]\n",
        "        \n",
        "        z = np.dot(np.transpose(W), x) + b\n",
        "        y_hat = sigm(z)\n",
        "        \n",
        "        W = W - np.dot(learning_rate, DL_DW(k, x, y_hat, y))\n",
        "        b = b - np.dot(learning_rate, DL_Db(k, y_hat, y))\n",
        "       \n",
        "        \n",
        "        y = np.array(val_y_train.T) \n",
        "        x = np.array(val_X_train.T)\n",
        "        k = val_X_train.shape[0]\n",
        "        \n",
        "        z = np.dot(np.transpose(W), x) + b\n",
        "        y_hat = sigm(z)\n",
        "        \n",
        "        cost = loss(k, y_hat, y)   \n",
        "        y_hat = np.where(y_hat >= 0.5, 1, y_hat) \n",
        "        y_hat = np.where(y_hat < 0.5, 0, y_hat)         \n",
        "        accuracy = skl. metrics.accuracy_score(val_y_train, y_hat.T) \n",
        "         \n",
        "    loss_list.append(cost)\n",
        "    accuracy_list.append(accuracy)\n",
        "    iterations.append(epoch)\n",
        "    \n"
      ]
    },
    {
      "cell_type": "code",
      "execution_count": null,
      "id": "8a3592fb",
      "metadata": {
        "id": "8a3592fb"
      },
      "outputs": [],
      "source": [
        "plt.plot(iterations, loss_list)\n",
        "\n",
        "plt.show()"
      ]
    },
    {
      "cell_type": "code",
      "execution_count": null,
      "id": "64bbd7c7",
      "metadata": {
        "colab": {
          "base_uri": "https://localhost:8080/",
          "height": 295
        },
        "id": "64bbd7c7",
        "outputId": "2b3a07af-8547-4460-ac1d-10dc083854b5"
      },
      "outputs": [
        {
          "output_type": "display_data",
          "data": {
            "text/plain": [
              "<Figure size 432x288 with 1 Axes>"
            ],
            "image/png": "[encoded data removed]"
          },
          "metadata": {
            "needs_background": "light"
          }
        }
      ],
      "source": [
        "#Plot a graph of Loss/ Acuracy against Epochs\n",
        "plt.plot(iterations, loss_list, color='r', label='Loss')\n",
        "plt.plot(iterations, accuracy_list, color='g', label='Accuracy')\n",
        "plt.title('Learning Curve')\n",
        "plt.xlabel('Epochs')\n",
        "plt.ylabel('Loss / Accuracy')\n",
        "plt.legend()\n",
        "plt.show()"
      ]
    },
    {
      "cell_type": "code",
      "execution_count": null,
      "id": "404d409b",
      "metadata": {
        "id": "404d409b"
      },
      "outputs": [],
      "source": [
        "y = np.array(y_test.T) \n",
        "x = np.array(X_test.T)\n",
        "k = 72"
      ]
    },
    {
      "cell_type": "code",
      "execution_count": null,
      "id": "a478fed6",
      "metadata": {
        "id": "a478fed6"
      },
      "outputs": [],
      "source": [
        "z = np.dot(np.transpose(W), x) + b\n",
        "y_hat = sigm(z)\n",
        "cost = loss(k, y_hat, y)   \n",
        "y_hat = np.where(y_hat >= 0.5, 1, y_hat)\n",
        "y_hat = np.where(y_hat < 0.5, 0, y_hat)"
      ]
    },
    {
      "cell_type": "code",
      "execution_count": null,
      "id": "41826044",
      "metadata": {
        "id": "41826044"
      },
      "outputs": [],
      "source": [
        "accuracy = skl.metrics.accuracy_score(y_test, y_hat.T)"
      ]
    },
    {
      "cell_type": "code",
      "execution_count": null,
      "id": "932b19b6",
      "metadata": {
        "colab": {
          "base_uri": "https://localhost:8080/"
        },
        "id": "932b19b6",
        "outputId": "f3cf8fe3-0095-4a1a-a951-8e7f1c8901c9"
      },
      "outputs": [
        {
          "output_type": "stream",
          "name": "stdout",
          "text": [
            "95.83333333333334\n"
          ]
        }
      ],
      "source": [
        "print(accuracy*100)"
      ]
    },
    {
      "cell_type": "code",
      "execution_count": null,
      "id": "96c1b45b",
      "metadata": {
        "id": "96c1b45b"
      },
      "outputs": [],
      "source": [
        "################################################################################################################################\n",
        "#Using the Keras Model"
      ]
    },
    {
      "cell_type": "code",
      "execution_count": null,
      "id": "9b2f982d",
      "metadata": {
        "colab": {
          "base_uri": "https://localhost:8080/"
        },
        "id": "9b2f982d",
        "outputId": "2d89a927-abfb-4017-d443-8007197f59da"
      },
      "outputs": [
        {
          "output_type": "stream",
          "name": "stdout",
          "text": [
            "(288, 6200)\n"
          ]
        }
      ],
      "source": [
        "(train_data, train_targets), (test_data, test_targets) = (X_train, y_train), (X_test, y_test)\n",
        "print(train_data.shape)"
      ]
    },
    {
      "cell_type": "code",
      "execution_count": null,
      "id": "fd5afe0a",
      "metadata": {
        "colab": {
          "base_uri": "https://localhost:8080/"
        },
        "id": "fd5afe0a",
        "outputId": "a02ec6e3-20c7-4186-c29c-11429b920a29"
      },
      "outputs": [
        {
          "output_type": "execute_result",
          "data": {
            "text/plain": [
              "(288, 6200)"
            ]
          },
          "metadata": {},
          "execution_count": 89
        }
      ],
      "source": [
        "#### Lets look at the data\n",
        "train_data.shape"
      ]
    },
    {
      "cell_type": "code",
      "execution_count": null,
      "id": "51eb6144",
      "metadata": {
        "colab": {
          "base_uri": "https://localhost:8080/"
        },
        "id": "51eb6144",
        "outputId": "c3af637b-8134-47cc-f330-dc00229def1e"
      },
      "outputs": [
        {
          "output_type": "execute_result",
          "data": {
            "text/plain": [
              "(72, 6200)"
            ]
          },
          "metadata": {},
          "execution_count": 90
        }
      ],
      "source": [
        "test_data.shape"
      ]
    },
    {
      "cell_type": "code",
      "execution_count": null,
      "id": "74799923",
      "metadata": {
        "id": "74799923"
      },
      "outputs": [],
      "source": [
        "from keras import models\n",
        "from keras import layers\n",
        "def build_model():\n",
        "    model=models.Sequential()\n",
        "    model.add(layers.Dense(64, activation='relu',\n",
        "                          input_shape=(train_data.shape[1],)))\n",
        "    model.add(layers.Dense(64, activation='relu'))\n",
        "    model.add(layers.Dense(1))\n",
        "    model.compile(optimizer='rmsprop', loss='mse', metrics=['mse', 'mae', 'accuracy'])\n",
        "    return model"
      ]
    },
    {
      "cell_type": "code",
      "execution_count": null,
      "id": "2f608fd8",
      "metadata": {
        "colab": {
          "base_uri": "https://localhost:8080/"
        },
        "id": "2f608fd8",
        "outputId": "d4508711-9a3f-4909-f5e4-09338886b83e"
      },
      "outputs": [
        {
          "output_type": "stream",
          "name": "stdout",
          "text": [
            "processing fold # 0\n",
            "processing fold # 1\n",
            "processing fold # 2\n",
            "processing fold # 3\n"
          ]
        }
      ],
      "source": [
        "import numpy as np\n",
        "k = 4\n",
        "num_val_samples = len(train_data) // k\n",
        "all_mse_histories = []\n",
        "num_epochs = 30\n",
        "all_scores = []\n",
        "for i in range(k):\n",
        "    print('processing fold #', i)\n",
        "    # Prepare the validation data: data from partition # k\n",
        "    val_data = train_data[i * num_val_samples: (i + 1) * num_val_samples]\n",
        "    val_targets = train_targets[i * num_val_samples: (i + 1) * num_val_samples]\n",
        "# Prepare the training data: data from all other partitions\n",
        "    partial_train_data = np.concatenate(\n",
        "        [train_data[:i * num_val_samples],\n",
        "         train_data[(i + 1) * num_val_samples:]],\n",
        "        axis=0)\n",
        "    partial_train_targets = np.concatenate(\n",
        "        [train_targets[:i * num_val_samples],\n",
        "         train_targets[(i + 1) * num_val_samples:]],\n",
        "        axis=0)\n",
        "    \n",
        "    # Build the Keras model (already compiled)\n",
        "    model = build_model()\n",
        "    # Train the model (in silent mode, verbose=0)\n",
        "    model.fit(partial_train_data, partial_train_targets,\n",
        "              epochs=num_epochs, batch_size=1, verbose=0)\n",
        "    # Evaluate the model on the validation data\n",
        "    a, b, val_mse, val_mae = model.evaluate(val_data, val_targets, verbose=0)\n",
        "    all_scores.append(val_mae)\n",
        "    \n",
        "    history = model.fit(batch_X_train, batch_y_train, \n",
        "                        validation_data=(val_X_train, val_y_train), epochs=num_epochs, \n",
        "                        batch_size=1, verbose=0)\n",
        "    mse_history = history.history['mse'] #Tracked for purpose of graph plot\n",
        "    all_mse_histories.append(mse_history) #Tracked for purpose of graph plot          \n",
        "      "
      ]
    },
    {
      "cell_type": "code",
      "execution_count": null,
      "id": "ad752338",
      "metadata": {
        "colab": {
          "base_uri": "https://localhost:8080/",
          "height": 280
        },
        "id": "ad752338",
        "outputId": "189d9bd5-9f9d-404c-ce52-634cc86fc059"
      },
      "outputs": [
        {
          "output_type": "display_data",
          "data": {
            "text/plain": [
              "<Figure size 432x288 with 1 Axes>"
            ],
            "image/png": "[encoded data removed]"
          },
          "metadata": {
            "needs_background": "light"
          }
        }
      ],
      "source": [
        "#Plot a graph of Loss (Mean Square Error) against Epochs\n",
        "average_mse_history =[np.mean([x[i] for x in all_mse_histories]) for i in range(num_epochs)]\n",
        "plt.plot(range(1, len(average_mse_history) + 1), average_mse_history)\n",
        "plt.xlabel('Epochs')\n",
        "plt.ylabel('LOSS (Validation MSE)')\n",
        "plt.show()"
      ]
    },
    {
      "cell_type": "code",
      "execution_count": null,
      "id": "f2cc20d2",
      "metadata": {
        "id": "f2cc20d2"
      },
      "outputs": [],
      "source": [
        "def smooth_curve(points, factor=0.9):\n",
        "    smoothed_points = []\n",
        "    for point in points:\n",
        "        if smoothed_points:\n",
        "            previous = smoothed_points[-1]\n",
        "            smoothed_points.append(previous * factor + point * (1 - factor))\n",
        "        else:\n",
        "            smoothed_points.append(point)\n",
        "    return smoothed_points"
      ]
    },
    {
      "cell_type": "code",
      "execution_count": null,
      "id": "4ab419ad",
      "metadata": {
        "colab": {
          "base_uri": "https://localhost:8080/",
          "height": 278
        },
        "id": "4ab419ad",
        "outputId": "ea6bd822-e188-4321-e9d7-3d2dc3fe818e"
      },
      "outputs": [
        {
          "output_type": "display_data",
          "data": {
            "text/plain": [
              "<Figure size 432x288 with 1 Axes>"
            ],
            "image/png": "[encoded data removed]"
          },
          "metadata": {
            "needs_background": "light"
          }
        }
      ],
      "source": [
        "#Make the graph smoother\n",
        "smooth_mse_history = smooth_curve(average_mse_history[5:])\n",
        "plt.plot(range(1, len(smooth_mse_history) + 1), smooth_mse_history)\n",
        "plt.xlabel('Epochs')\n",
        "plt.ylabel('LOSS (Validation MSE)')\n",
        "plt.show()"
      ]
    },
    {
      "cell_type": "code",
      "execution_count": null,
      "id": "2a83f6ff",
      "metadata": {
        "colab": {
          "base_uri": "https://localhost:8080/"
        },
        "id": "2a83f6ff",
        "outputId": "8ff986f2-9c5f-4056-eed4-7030c99fdf22"
      },
      "outputs": [
        {
          "output_type": "stream",
          "name": "stdout",
          "text": [
            "Training Accuracy on Validation Data: 45.83\n"
          ]
        }
      ],
      "source": [
        "print('Training Accuracy on Validation Data: %.2f' % (history.history['val_accuracy'][-1]*100))"
      ]
    },
    {
      "cell_type": "code",
      "execution_count": null,
      "id": "c26775e1",
      "metadata": {
        "colab": {
          "base_uri": "https://localhost:8080/"
        },
        "id": "c26775e1",
        "outputId": "3378478c-a953-4980-9619-1c1c706eb465"
      },
      "outputs": [
        {
          "output_type": "stream",
          "name": "stdout",
          "text": [
            "3/3 [==============================] - 0s 8ms/step - loss: 0.2500 - mse: 0.2500 - mae: 0.5000 - accuracy: 0.5000\n",
            "Accuracy: 50.00\n"
          ]
        }
      ],
      "source": [
        "#Compute Model accuracy on unseen test data\n",
        "a, test_mse_score, test_mae_score, test_accuracy = model.evaluate(X_test, y_test)\n",
        "print('Accuracy: %.2f' % (test_accuracy*100))"
      ]
    }
  ],
  "metadata": {
    "kernelspec": {
      "display_name": "Python 3 (ipykernel)",
      "language": "python",
      "name": "python3"
    },
    "language_info": {
      "codemirror_mode": {
        "name": "ipython",
        "version": 3
      },
      "file_extension": ".py",
      "mimetype": "text/x-python",
      "name": "python",
      "nbconvert_exporter": "python",
      "pygments_lexer": "ipython3",
      "version": "3.9.7"
    },
    "colab": {
      "name": "CE889 assignment.ipynb",
      "provenance": [],
      "include_colab_link": true
    }
  },
  "nbformat": 4,
  "nbformat_minor": 5
}